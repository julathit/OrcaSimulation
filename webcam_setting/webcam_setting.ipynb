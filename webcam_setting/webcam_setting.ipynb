{
 "cells": [
  {
   "cell_type": "code",
   "execution_count": 1,
   "metadata": {},
   "outputs": [
    {
     "name": "stderr",
     "output_type": "stream",
     "text": [
      "white_balance_temperature: Permission denied\n"
     ]
    },
    {
     "name": "stdout",
     "output_type": "stream",
     "text": [
      "VIDIOC_S_CTRL: failed: Permission denied\n"
     ]
    },
    {
     "name": "stderr",
     "output_type": "stream",
     "text": [
      "unknown control 'focus_absolute'\n",
      "white_balance_temperature: Permission denied\n",
      "unknown control 'focus_absolute'\n",
      "unknown control 'focus_absolute'\n"
     ]
    },
    {
     "name": "stdout",
     "output_type": "stream",
     "text": [
      "VIDIOC_S_CTRL: failed: Permission denied\n"
     ]
    },
    {
     "name": "stderr",
     "output_type": "stream",
     "text": [
      "white_balance_temperature: Permission denied\n",
      "unknown control 'focus_absolute'\n",
      "unknown control 'focus_absolute'\n"
     ]
    },
    {
     "name": "stdout",
     "output_type": "stream",
     "text": [
      "VIDIOC_S_CTRL: failed: Permission denied\n"
     ]
    }
   ],
   "source": [
    "import subprocess\n",
    "import re\n",
    "import os\n",
    "import tkinter as tk\n",
    "from tkinter import Scale, filedialog\n",
    "\n",
    "# Function to adjust webcam settings\n",
    "def set_webcam_settings(device, setting, value):\n",
    "    subprocess.run([\"v4l2-ctl\", \"-d\", device, \"--set-ctrl\", f\"{setting}={value}\"])\n",
    "\n",
    "# Function to get current webcam settings\n",
    "def get_current_webcam_setting(device, setting):\n",
    "    result = subprocess.run([\"v4l2-ctl\", \"-d\", device, \"--get-ctrl\", setting], capture_output=True, text=True)\n",
    "    return int(re.search(r'\\d+', result.stdout).group()) if result.stdout else 0\n",
    "\n",
    "# Update functions for each setting\n",
    "def update_setting(setting, value):\n",
    "    set_webcam_settings(\"/dev/video0\", setting, int(value))\n",
    "    sliders[setting].set(int(value))\n",
    "\n",
    "# Save settings to a new text file\n",
    "def save_settings():\n",
    "    file_path = filedialog.asksaveasfilename(initialdir=\"./settings\", defaultextension=\".txt\", filetypes=[(\"Text files\", \"*.txt\"), (\"All files\", \"*.*\")])\n",
    "    if file_path:\n",
    "        with open(file_path, 'w') as file:\n",
    "            for setting, slider in sliders.items():\n",
    "                file.write(f\"{setting}={slider.get()}\\n\")\n",
    "\n",
    "# Read settings from a selected text file\n",
    "def read_settings():\n",
    "    file_path = filedialog.askopenfilename(initialdir=\"./settings\", filetypes=[(\"Text files\", \"*.txt\"), (\"All files\", \"*.*\")])\n",
    "    if file_path:\n",
    "        with open(file_path, 'r') as file:\n",
    "            for line in file:\n",
    "                setting, value = line.strip().split('=')\n",
    "                update_setting(setting, int(value))\n",
    "\n",
    "# Create the main window\n",
    "root = tk.Tk()\n",
    "root.title(\"Webcam Settings\")\n",
    "\n",
    "# Define settings and their respective ranges\n",
    "settings = {\n",
    "    \"brightness\": (0, 255),\n",
    "    \"contrast\": (0, 120),\n",
    "    \"saturation\": (80, 255),\n",
    "    \"sharpness\": (0, 100),\n",
    "    \"white_balance_temperature\": (2000, 7500),\n",
    "    \"focus_absolute\": (0, 250)\n",
    "}\n",
    "\n",
    "# Create sliders for each setting\n",
    "sliders = {}\n",
    "for setting, (min_val, max_val) in settings.items():\n",
    "    slider = Scale(root, from_=min_val, to=max_val, orient='horizontal', label=setting.capitalize().replace('_', ' '), command=lambda val, s=setting: update_setting(s, val))\n",
    "    slider.set(get_current_webcam_setting(\"/dev/video0\", setting))\n",
    "    sliders[setting] = slider\n",
    "    slider.pack()\n",
    "\n",
    "# Check if the settings directory and default file exists, if not create them\n",
    "os.makedirs(\"settings\", exist_ok=True)\n",
    "default_file_path = \"settings/default.txt\"\n",
    "if not os.path.exists(default_file_path):\n",
    "    file_path = \"settings/default.txt\"  # specify the file path and name\n",
    "    with open(file_path, 'w') as file:\n",
    "        for setting, slider in sliders.items():\n",
    "            file.write(f\"{setting}={slider.get()}\\n\")\n",
    "\n",
    "# Add a save button\n",
    "save_button = tk.Button(root, text=\"Save\", command=save_settings)\n",
    "save_button.pack()\n",
    "\n",
    "# Add a read button\n",
    "read_button = tk.Button(root, text=\"Read\", command=read_settings)\n",
    "read_button.pack()\n",
    "\n",
    "# Start the GUI\n",
    "root.mainloop()\n"
   ]
  }
 ],
 "metadata": {
  "kernelspec": {
   "display_name": "Python 3",
   "language": "python",
   "name": "python3"
  },
  "language_info": {
   "codemirror_mode": {
    "name": "ipython",
    "version": 3
   },
   "file_extension": ".py",
   "mimetype": "text/x-python",
   "name": "python",
   "nbconvert_exporter": "python",
   "pygments_lexer": "ipython3",
   "version": "3.8.10"
  }
 },
 "nbformat": 4,
 "nbformat_minor": 2
}
